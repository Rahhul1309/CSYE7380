{
 "cells": [
  {
   "cell_type": "markdown",
   "id": "b13dc8af-fdb6-47ae-96b9-cd1e43a3c4a4",
   "metadata": {},
   "source": [
    "# Lecture 3 Self-Attention Auto-Translator"
   ]
  },
  {
   "cell_type": "markdown",
   "id": "f6bab38f-c7e9-422e-8647-a80e5457b305",
   "metadata": {},
   "source": [
    "1. Install Dependencies\n",
    "- pip install torch transformers\n",
    "- pip install sentencepiece\n",
    "- pip install sacremoses\n",
    "\n",
    "2. source: https://huggingface.co/Helsinki-NLP"
   ]
  },
  {
   "cell_type": "markdown",
   "id": "640ac142-2fe0-4aea-823a-17253c58178a",
   "metadata": {},
   "source": [
    "### Example 1. English - French\n",
    "#### Use a Pre-Trained Translation Model"
   ]
  },
  {
   "cell_type": "code",
   "execution_count": 26,
   "id": "a30abbdb-79ca-4e8a-978b-38f5a37b0e7e",
   "metadata": {},
   "outputs": [],
   "source": [
    "from transformers import MarianMTModel, MarianTokenizer\n",
    "\n",
    "class SimpleTranslator:\n",
    "    def __init__(self, model_name=\"Helsinki-NLP/opus-mt-en-fr\"):\n",
    "        self.tokenizer = MarianTokenizer.from_pretrained(model_name)\n",
    "        self.model = MarianMTModel.from_pretrained(model_name)\n",
    "\n",
    "    def translate(self, text):\n",
    "        inputs = self.tokenizer(text, return_tensors=\"pt\", padding=True, truncation=True)\n",
    "        translated = self.model.generate(**inputs)\n",
    "        return self.tokenizer.batch_decode(translated, skip_special_tokens=True)[0]"
   ]
  },
  {
   "cell_type": "code",
   "execution_count": 28,
   "id": "9b6bf696-bd00-49d0-8527-3b2e178e8a47",
   "metadata": {},
   "outputs": [
    {
     "name": "stdin",
     "output_type": "stream",
     "text": [
      "Sentence in English: How much is it?\n"
     ]
    },
    {
     "name": "stdout",
     "output_type": "stream",
     "text": [
      "English: How much is it?\n",
      "French: C'est combien ?\n"
     ]
    }
   ],
   "source": [
    "# Example Usage\n",
    "translator = SimpleTranslator()\n",
    "sentence = input(\"Enter text in English: \")\n",
    "translated_sentence = translator.translate(sentence)\n",
    "\n",
    "print(f\"English: {sentence}\")\n",
    "print(f\"French: {translated_sentence}\")"
   ]
  },
  {
   "cell_type": "markdown",
   "id": "0fd049f6-eb51-42ab-b2e3-fbe2e0bd4f1f",
   "metadata": {},
   "source": [
    "### Example 2. English - Italian\n",
    "#### Use a Pre-Trained Translation Model"
   ]
  },
  {
   "cell_type": "code",
   "execution_count": 43,
   "id": "a0eb5b4a-01f1-49b3-82ac-0b5d78a09db2",
   "metadata": {},
   "outputs": [],
   "source": [
    "from transformers import MarianMTModel, MarianTokenizer\n",
    "import warnings\n",
    "warnings.filterwarnings(\"ignore\", category=Warning)\n",
    "\n",
    "def translate_to_italian(text: str) -> str:\n",
    "    model_name = \"Helsinki-NLP/opus-mt-en-it\"\n",
    "    tokenizer = MarianTokenizer.from_pretrained(model_name)\n",
    "    model = MarianMTModel.from_pretrained(model_name)\n",
    "    \n",
    "    # Tokenize text\n",
    "    inputs = tokenizer(text, return_tensors=\"pt\", padding=True, truncation=True)\n",
    "    \n",
    "    # Generate translation\n",
    "    translated = model.generate(**inputs)\n",
    "    \n",
    "    # Decode the output\n",
    "    translated_text = tokenizer.decode(translated[0], skip_special_tokens=True)\n",
    "    return translated_text"
   ]
  },
  {
   "cell_type": "code",
   "execution_count": 45,
   "id": "77052c77-6137-4580-8f68-da8065c5c087",
   "metadata": {},
   "outputs": [
    {
     "name": "stdin",
     "output_type": "stream",
     "text": [
      "Enter text in English:  How much is it?\n"
     ]
    },
    {
     "name": "stdout",
     "output_type": "stream",
     "text": [
      "Translation in Italian: Quanto costa?\n"
     ]
    }
   ],
   "source": [
    "if __name__ == \"__main__\":\n",
    "    text = input(\"Enter text in English: \")\n",
    "    translation = translate_to_italian(text)\n",
    "    print(f\"Translation in Italian: {translation}\")"
   ]
  },
  {
   "cell_type": "code",
   "execution_count": null,
   "id": "e04c089d-6cba-4d17-8304-0dc0a0d2d396",
   "metadata": {},
   "outputs": [],
   "source": []
  }
 ],
 "metadata": {
  "kernelspec": {
   "display_name": "Python 3 (ipykernel)",
   "language": "python",
   "name": "python3"
  },
  "language_info": {
   "codemirror_mode": {
    "name": "ipython",
    "version": 3
   },
   "file_extension": ".py",
   "mimetype": "text/x-python",
   "name": "python",
   "nbconvert_exporter": "python",
   "pygments_lexer": "ipython3",
   "version": "3.10.13"
  }
 },
 "nbformat": 4,
 "nbformat_minor": 5
}
